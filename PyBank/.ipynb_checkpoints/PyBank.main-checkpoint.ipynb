{
 "cells": [
  {
   "cell_type": "code",
   "execution_count": 1,
   "metadata": {},
   "outputs": [
    {
     "data": {
      "text/html": [
       "<div>\n",
       "<style scoped>\n",
       "    .dataframe tbody tr th:only-of-type {\n",
       "        vertical-align: middle;\n",
       "    }\n",
       "\n",
       "    .dataframe tbody tr th {\n",
       "        vertical-align: top;\n",
       "    }\n",
       "\n",
       "    .dataframe thead th {\n",
       "        text-align: right;\n",
       "    }\n",
       "</style>\n",
       "<table border=\"1\" class=\"dataframe\">\n",
       "  <thead>\n",
       "    <tr style=\"text-align: right;\">\n",
       "      <th></th>\n",
       "      <th>Date</th>\n",
       "      <th>Profit/Losses</th>\n",
       "    </tr>\n",
       "  </thead>\n",
       "  <tbody>\n",
       "    <tr>\n",
       "      <td>0</td>\n",
       "      <td>Jan-2010</td>\n",
       "      <td>867884</td>\n",
       "    </tr>\n",
       "    <tr>\n",
       "      <td>1</td>\n",
       "      <td>Feb-2010</td>\n",
       "      <td>984655</td>\n",
       "    </tr>\n",
       "    <tr>\n",
       "      <td>2</td>\n",
       "      <td>Mar-2010</td>\n",
       "      <td>322013</td>\n",
       "    </tr>\n",
       "    <tr>\n",
       "      <td>3</td>\n",
       "      <td>Apr-2010</td>\n",
       "      <td>-69417</td>\n",
       "    </tr>\n",
       "    <tr>\n",
       "      <td>4</td>\n",
       "      <td>May-2010</td>\n",
       "      <td>310503</td>\n",
       "    </tr>\n",
       "  </tbody>\n",
       "</table>\n",
       "</div>"
      ],
      "text/plain": [
       "       Date  Profit/Losses\n",
       "0  Jan-2010         867884\n",
       "1  Feb-2010         984655\n",
       "2  Mar-2010         322013\n",
       "3  Apr-2010         -69417\n",
       "4  May-2010         310503"
      ]
     },
     "execution_count": 1,
     "metadata": {},
     "output_type": "execute_result"
    }
   ],
   "source": [
    "# Read csv file\n",
    "import pandas as pd\n",
    "file = \"Resources/budget_data.csv\"\n",
    "df_original_records = pd.read_csv(file)\n",
    "df_original_records.head()"
   ]
  },
  {
   "cell_type": "code",
   "execution_count": 2,
   "metadata": {},
   "outputs": [
    {
     "name": "stdout",
     "output_type": "stream",
     "text": [
      "Total months: 86\n"
     ]
    }
   ],
   "source": [
    "# The total number of months included in the dataset\n",
    "month_counts = df_original_records[\"Date\"].count()\n",
    "print(\"Total months: \" + str(month_counts))\n"
   ]
  },
  {
   "cell_type": "code",
   "execution_count": 3,
   "metadata": {},
   "outputs": [
    {
     "name": "stdout",
     "output_type": "stream",
     "text": [
      "Total profits/losses: $38382578\n"
     ]
    }
   ],
   "source": [
    "# The net total amount of \"Profit/Losses\" over the entire period\n",
    "df_original_records.dtypes\n",
    "total = df_original_records[\"Profit/Losses\"].sum()\n",
    "print(\"Total profits/losses: $\" + str(total))"
   ]
  },
  {
   "cell_type": "code",
   "execution_count": 40,
   "metadata": {
    "scrolled": true
   },
   "outputs": [
    {
     "name": "stdout",
     "output_type": "stream",
     "text": [
      "[867884, 984655, 322013, -69417, 310503, 522857, 1033096, 604885, -216386, 477532, 893810, -80353, 779806, -335203, 697845, 793163, 485070, 584122, 62729, 668179, 899906, 834719, 132003, 309978, -755566, 1170593, 252788, 1151518, 817256, 570757, 506702, -1022534, 475062, 779976, 144175, 542494, 359333, 321469, 67780, 471435, 565603, 872480, 789480, 999942, -1196225, 268997, -687986, 1150461, 682458, 617856, 824098, 581943, 132864, 448062, 689161, 800701, 1166643, 947333, 578668, 988505, 1139715, 1029471, 687533, -524626, 158620, 87795, 423389, 840723, 568529, 332067, 989499, 778237, 650000, -1100387, -174946, 757143, 445709, 712961, -1163797, 569899, 768450, 102685, 795914, 60988, 138230, 671099]\n",
      "-196785\n",
      "-2288.1976744186045\n"
     ]
    }
   ],
   "source": [
    "# The average of the changes in \"Profit/Losses\" over the entire period\n",
    "list_a = df_original_records[\"Profit/Losses\"].values.tolist()\n",
    "print(list_a)\n",
    "\n",
    "change_list = []\n",
    "for row in range(0, len(list_a)-1):\n",
    "    change = (list_a[row+1] - list_a[row])\n",
    "    change_list.append(change)\n",
    "\n",
    "total_change = sum(change_list)\n",
    "print(total_change)\n",
    "\n",
    "average = total_change/len(list_a)\n",
    "print(average)"
   ]
  },
  {
   "cell_type": "code",
   "execution_count": 45,
   "metadata": {},
   "outputs": [
    {
     "name": "stdout",
     "output_type": "stream",
     "text": [
      "1926159\n"
     ]
    }
   ],
   "source": [
    "# The greatest increase in profits (date and amount) over the entire period\n",
    "greatest_increase = max(change_list)\n",
    "print(greatest_increase)\n",
    "#greatest_increase = df_original_records[\"Profit/Losses\"].max()\n",
    "#date_greatest_increase = df_original_records.loc[df_original_records['Profit/Losses'] == greatest_increase]\n",
    "#print(date_greatest_increase)"
   ]
  },
  {
   "cell_type": "code",
   "execution_count": 46,
   "metadata": {},
   "outputs": [
    {
     "name": "stdout",
     "output_type": "stream",
     "text": [
      "-2196167\n"
     ]
    }
   ],
   "source": [
    "# The greatest decrease in losses (date and amount) over the entire period\n",
    "greatest_decrease = min(change_list)\n",
    "print(greatest_decrease)\n",
    "#greatest_decrease = df_original_records[\"Profit/Losses\"].min()\n",
    "#date_greatest_decrease = df_original_records.loc[df_original_records['Profit/Losses'] == greatest_decrease]\n",
    "#print(date_greatest_decrease)"
   ]
  },
  {
   "cell_type": "code",
   "execution_count": 47,
   "metadata": {},
   "outputs": [
    {
     "ename": "TypeError",
     "evalue": "can only concatenate str (not \"numpy.int64\") to str",
     "output_type": "error",
     "traceback": [
      "\u001b[0;31m---------------------------------------------------------------------------\u001b[0m",
      "\u001b[0;31mTypeError\u001b[0m                                 Traceback (most recent call last)",
      "\u001b[0;32m<ipython-input-47-456f0de43ca2>\u001b[0m in \u001b[0;36m<module>\u001b[0;34m\u001b[0m\n\u001b[1;32m      1\u001b[0m \u001b[0;31m# Print results in the terminal\u001b[0m\u001b[0;34m\u001b[0m\u001b[0;34m\u001b[0m\u001b[0;34m\u001b[0m\u001b[0m\n\u001b[0;32m----> 2\u001b[0;31m \u001b[0mprint\u001b[0m\u001b[0;34m(\u001b[0m\u001b[0;34m\"Total months: \"\u001b[0m \u001b[0;34m+\u001b[0m \u001b[0mmonth_counts\u001b[0m\u001b[0;34m)\u001b[0m\u001b[0;34m\u001b[0m\u001b[0;34m\u001b[0m\u001b[0m\n\u001b[0m\u001b[1;32m      3\u001b[0m \u001b[0mprint\u001b[0m\u001b[0;34m(\u001b[0m\u001b[0;34m\"Total profits/losses: \"\u001b[0m \u001b[0;34m+\u001b[0m \u001b[0mtotal\u001b[0m\u001b[0;34m)\u001b[0m\u001b[0;34m\u001b[0m\u001b[0;34m\u001b[0m\u001b[0m\n\u001b[1;32m      4\u001b[0m \u001b[0mprint\u001b[0m\u001b[0;34m(\u001b[0m\u001b[0;34m\"Average change: \"\u001b[0m \u001b[0;34m+\u001b[0m \u001b[0maverage\u001b[0m\u001b[0;34m)\u001b[0m\u001b[0;34m\u001b[0m\u001b[0;34m\u001b[0m\u001b[0m\n\u001b[1;32m      5\u001b[0m \u001b[0mprint\u001b[0m\u001b[0;34m(\u001b[0m\u001b[0;34m\"Greatest increase in profits: \"\u001b[0m \u001b[0;34m+\u001b[0m \u001b[0mdate_greatest_increase\u001b[0m\u001b[0;34m)\u001b[0m\u001b[0;34m\u001b[0m\u001b[0;34m\u001b[0m\u001b[0m\n",
      "\u001b[0;31mTypeError\u001b[0m: can only concatenate str (not \"numpy.int64\") to str"
     ]
    }
   ],
   "source": [
    "# Print results in the terminal\n",
    "print(\"Total months: \" + month_counts)\n",
    "print(\"Total profits/losses: \" + total)\n",
    "print(\"Average change: \" + average)\n",
    "print(\"Greatest increase in profits: \" + date_greatest_increase)\n",
    "print(\"Greatest decrease in losses: \" + date_greatest_decrease)"
   ]
  },
  {
   "cell_type": "code",
   "execution_count": 55,
   "metadata": {},
   "outputs": [],
   "source": [
    "# Export to a text file\n",
    "pd.options.display.float_format = '${:,.2f}'.format\n",
    "df_results = pd.DataFrame({\n",
    "#     index=[\"Total Months: \", \"Total profits/losses: \", \"Average change: \", \"Greatest increase in profits: \", \"Greatest decrease in losses: \"],\n",
    "#     columns=[month_counts, total, average, greatest_increase, greatest_decrease]\n",
    "    \"Total Months: \": [month_counts],\n",
    "    \"Total profits/losses: \": [total],\n",
    "    \"Average change: \": [average],\n",
    "    \"Greatest increase in profits: \": greatest_increase,\n",
    "    \"Greatest decrease in losses: \": [greatest_decrease]\n",
    "})\n",
    "df_results.to_csv(\"Output/Financial_Analysis.txt\", index=False)\n",
    "print(df_results())"
   ]
  },
  {
   "cell_type": "code",
   "execution_count": null,
   "metadata": {},
   "outputs": [],
   "source": []
  }
 ],
 "metadata": {
  "kernelspec": {
   "display_name": "Python 3",
   "language": "python",
   "name": "python3"
  },
  "language_info": {
   "codemirror_mode": {
    "name": "ipython",
    "version": 3
   },
   "file_extension": ".py",
   "mimetype": "text/x-python",
   "name": "python",
   "nbconvert_exporter": "python",
   "pygments_lexer": "ipython3",
   "version": "3.7.4"
  }
 },
 "nbformat": 4,
 "nbformat_minor": 2
}
